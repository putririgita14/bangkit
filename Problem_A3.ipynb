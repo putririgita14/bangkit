{
  "nbformat": 4,
  "nbformat_minor": 0,
  "metadata": {
    "colab": {
      "provenance": [],
      "authorship_tag": "ABX9TyOVozYc6G1aURPmC3QBehkf",
      "include_colab_link": true
    },
    "kernelspec": {
      "name": "python3",
      "display_name": "Python 3"
    },
    "language_info": {
      "name": "python"
    }
  },
  "cells": [
    {
      "cell_type": "markdown",
      "metadata": {
        "id": "view-in-github",
        "colab_type": "text"
      },
      "source": [
        "<a href=\"https://colab.research.google.com/github/putririgita14/bangkit/blob/main/Problem_A3.ipynb\" target=\"_parent\"><img src=\"https://colab.research.google.com/assets/colab-badge.svg\" alt=\"Open In Colab\"/></a>"
      ]
    },
    {
      "cell_type": "code",
      "execution_count": 3,
      "metadata": {
        "colab": {
          "base_uri": "https://localhost:8080/"
        },
        "id": "hxtYTRIqRBIM",
        "outputId": "68704cf1-686f-4dec-899f-bacc2c660ba4"
      },
      "outputs": [
        {
          "output_type": "stream",
          "name": "stdout",
          "text": [
            "Requirement already satisfied: keras_preprocessing in /usr/local/lib/python3.10/dist-packages (1.1.2)\n",
            "Requirement already satisfied: numpy>=1.9.1 in /usr/local/lib/python3.10/dist-packages (from keras_preprocessing) (1.25.2)\n",
            "Requirement already satisfied: six>=1.9.0 in /usr/local/lib/python3.10/dist-packages (from keras_preprocessing) (1.16.0)\n"
          ]
        },
        {
          "output_type": "stream",
          "name": "stderr",
          "text": [
            "WARNING:absl:`lr` is deprecated in Keras optimizer, please use `learning_rate` or use the legacy optimizer, e.g.,tf.keras.optimizers.legacy.RMSprop.\n"
          ]
        },
        {
          "output_type": "stream",
          "name": "stdout",
          "text": [
            "Found 1027 images belonging to 2 classes.\n",
            "Found 256 images belonging to 2 classes.\n",
            "Epoch 1/20\n",
            "52/52 - 55s - loss: 0.0629 - acc: 0.9766 - val_loss: 0.0334 - val_acc: 0.9883 - 55s/epoch - 1s/step\n",
            "Epoch 2/20\n",
            "52/52 - 50s - loss: 0.0095 - acc: 0.9971 - val_loss: 0.0101 - val_acc: 1.0000 - 50s/epoch - 952ms/step\n",
            "Epoch 3/20\n",
            "52/52 - 48s - loss: 0.0028 - acc: 1.0000 - val_loss: 0.0070 - val_acc: 1.0000 - 48s/epoch - 923ms/step\n",
            "Epoch 4/20\n",
            "52/52 - 52s - loss: 0.0020 - acc: 1.0000 - val_loss: 0.0075 - val_acc: 1.0000 - 52s/epoch - 991ms/step\n",
            "Epoch 5/20\n",
            "52/52 - 50s - loss: 5.7190e-04 - acc: 1.0000 - val_loss: 0.0061 - val_acc: 1.0000 - 50s/epoch - 956ms/step\n",
            "Epoch 6/20\n",
            "52/52 - 49s - loss: 4.5019e-04 - acc: 1.0000 - val_loss: 0.0079 - val_acc: 1.0000 - 49s/epoch - 935ms/step\n",
            "Epoch 7/20\n",
            "52/52 - 50s - loss: 2.7032e-04 - acc: 1.0000 - val_loss: 0.0068 - val_acc: 1.0000 - 50s/epoch - 953ms/step\n",
            "Epoch 8/20\n",
            "52/52 - 48s - loss: 2.1050e-04 - acc: 1.0000 - val_loss: 0.0048 - val_acc: 1.0000 - 48s/epoch - 915ms/step\n",
            "Epoch 9/20\n",
            "52/52 - 49s - loss: 1.4926e-04 - acc: 1.0000 - val_loss: 0.0048 - val_acc: 1.0000 - 49s/epoch - 948ms/step\n",
            "Epoch 10/20\n",
            "52/52 - 50s - loss: 1.3200e-04 - acc: 1.0000 - val_loss: 0.0077 - val_acc: 1.0000 - 50s/epoch - 964ms/step\n",
            "Epoch 11/20\n",
            "52/52 - 48s - loss: 1.1248e-04 - acc: 1.0000 - val_loss: 0.0038 - val_acc: 1.0000 - 48s/epoch - 921ms/step\n",
            "Epoch 12/20\n",
            "52/52 - 49s - loss: 1.1105e-04 - acc: 1.0000 - val_loss: 0.0053 - val_acc: 1.0000 - 49s/epoch - 947ms/step\n",
            "Epoch 13/20\n",
            "52/52 - 48s - loss: 8.1350e-05 - acc: 1.0000 - val_loss: 0.0021 - val_acc: 1.0000 - 48s/epoch - 917ms/step\n",
            "Epoch 14/20\n",
            "52/52 - 49s - loss: 6.9737e-05 - acc: 1.0000 - val_loss: 0.0048 - val_acc: 1.0000 - 49s/epoch - 941ms/step\n",
            "Epoch 15/20\n",
            "52/52 - 50s - loss: 5.8492e-05 - acc: 1.0000 - val_loss: 0.0047 - val_acc: 1.0000 - 50s/epoch - 953ms/step\n",
            "Epoch 16/20\n",
            "52/52 - 52s - loss: 5.3946e-05 - acc: 1.0000 - val_loss: 0.0049 - val_acc: 1.0000 - 52s/epoch - 992ms/step\n",
            "Epoch 17/20\n",
            "52/52 - 49s - loss: 5.2278e-05 - acc: 1.0000 - val_loss: 0.0038 - val_acc: 1.0000 - 49s/epoch - 933ms/step\n",
            "Epoch 18/20\n",
            "52/52 - 49s - loss: 4.5991e-05 - acc: 1.0000 - val_loss: 0.0043 - val_acc: 1.0000 - 49s/epoch - 944ms/step\n",
            "Epoch 19/20\n",
            "52/52 - 48s - loss: 4.5385e-05 - acc: 1.0000 - val_loss: 0.0042 - val_acc: 1.0000 - 48s/epoch - 914ms/step\n",
            "Epoch 20/20\n",
            "52/52 - 50s - loss: 4.3979e-05 - acc: 1.0000 - val_loss: 0.0044 - val_acc: 1.0000 - 50s/epoch - 956ms/step\n"
          ]
        },
        {
          "output_type": "stream",
          "name": "stderr",
          "text": [
            "/usr/local/lib/python3.10/dist-packages/keras/src/engine/training.py:3103: UserWarning: You are saving your model as an HDF5 file via `model.save()`. This file format is considered legacy. We recommend using instead the native Keras format, e.g. `model.save('my_model.keras')`.\n",
            "  saving_api.save_model(\n"
          ]
        }
      ],
      "source": [
        "# ======================================================================================================\n",
        "# PROBLEM A3\n",
        "#\n",
        "# Build a classifier for the Human or Horse Dataset with Transfer Learning.\n",
        "# The test will expect it to classify binary classes.\n",
        "# Note that all the layers in the pre-trained model are non-trainable.\n",
        "# Do not use lambda layers in your model.\n",
        "#\n",
        "# The horse-or-human dataset used in this problem is created by Laurence Moroney (laurencemoroney.com).\n",
        "# Inception_v3, pre-trained model used in this problem is developed by Google.\n",
        "#\n",
        "# Desired accuracy and validation_accuracy > 97%.\n",
        "# =======================================================================================================\n",
        "\n",
        "# Install keras_preprocessing\n",
        "!pip install keras_preprocessing\n",
        "\n",
        "import urllib.request\n",
        "import zipfile\n",
        "import tensorflow as tf\n",
        "from keras_preprocessing.image import ImageDataGenerator\n",
        "from tensorflow.keras.optimizers import RMSprop\n",
        "from tensorflow.keras import layers\n",
        "from tensorflow.keras import Model\n",
        "from tensorflow.keras.applications.inception_v3 import InceptionV3\n",
        "\n",
        "\n",
        "def solution_A3():\n",
        "    inceptionv3 = 'https://storage.googleapis.com/mledu-datasets/inception_v3_weights_tf_dim_ordering_tf_kernels_notop.h5'\n",
        "    urllib.request.urlretrieve(\n",
        "        inceptionv3, 'inception_v3_weights_tf_dim_ordering_tf_kernels_notop.h5')\n",
        "    local_weights_file = 'inception_v3_weights_tf_dim_ordering_tf_kernels_notop.h5'\n",
        "\n",
        "    # Load the InceptionV3 model without the top layer\n",
        "    pre_trained_model = InceptionV3(input_shape=(150, 150, 3),\n",
        "                                    include_top=False,\n",
        "                                    weights=None)\n",
        "    pre_trained_model.load_weights(local_weights_file)\n",
        "\n",
        "    for layer in pre_trained_model.layers:\n",
        "        layer.trainable = False\n",
        "\n",
        "    last_layer = pre_trained_model.get_layer('mixed7')\n",
        "    last_output = last_layer.output\n",
        "\n",
        "    # Add a GlobalAveragePooling2D layer\n",
        "    x =  layers.GlobalAveragePooling2D()(last_output)\n",
        "    # Add a fully connected layer with 1024 hidden units and ReLU activation\n",
        "    x = layers.Dense(1024, activation='relu')(x)\n",
        "    # Add a dropout rate of 0.2\n",
        "    x = layers.Dropout(0.2)(x)\n",
        "    # Add a final sigmoid layer for classification\n",
        "    x = layers.Dense(1, activation='sigmoid')(x)\n",
        "\n",
        "    model = Model(pre_trained_model.input, x)\n",
        "\n",
        "    model.compile(optimizer=RMSprop(lr=0.0001),\n",
        "                  loss='binary_crossentropy',\n",
        "                  metrics=['acc'])\n",
        "\n",
        "    data_url_1 = 'https://github.com/dicodingacademy/assets/releases/download/release-horse-or-human/horse-or-human.zip'\n",
        "    urllib.request.urlretrieve(data_url_1, 'horse-or-human.zip')\n",
        "    local_file = 'horse-or-human.zip'\n",
        "    zip_ref = zipfile.ZipFile(local_file, 'r')\n",
        "    zip_ref.extractall('data/horse-or-human')\n",
        "    zip_ref.close()\n",
        "\n",
        "    data_url_2 = 'https://github.com/dicodingacademy/assets/raw/main/Simulation/machine_learning/validation-horse-or-human.zip'\n",
        "    urllib.request.urlretrieve(data_url_2, 'validation-horse-or-human.zip')\n",
        "    local_file = 'validation-horse-or-human.zip'\n",
        "    zip_ref = zipfile.ZipFile(local_file, 'r')\n",
        "    zip_ref.extractall('data/validation-horse-or-human')\n",
        "    zip_ref.close()\n",
        "\n",
        "    train_dir = 'data/horse-or-human'\n",
        "    validation_dir = 'data/validation-horse-or-human'\n",
        "\n",
        "    train_datagen = ImageDataGenerator(rescale=1.0/255.0)\n",
        "    val_datagen = ImageDataGenerator(rescale=1.0/255.0)\n",
        "\n",
        "    # YOUR IMAGE SIZE SHOULD BE 150x150\n",
        "    train_generator=  train_datagen.flow_from_directory(\n",
        "        train_dir,\n",
        "        target_size=(150, 150),\n",
        "        batch_size=20,\n",
        "        class_mode='binary'\n",
        "    )\n",
        "\n",
        "    validation_generator = val_datagen.flow_from_directory(\n",
        "        validation_dir,\n",
        "        target_size=(150, 150),\n",
        "        batch_size=20,\n",
        "        class_mode='binary'\n",
        "    )\n",
        "\n",
        "    # Train the model\n",
        "    model.fit(\n",
        "        train_generator,\n",
        "        validation_data=validation_generator,\n",
        "        epochs=20,\n",
        "        verbose=2\n",
        "    )\n",
        "\n",
        "    return model\n",
        "\n",
        "# The code below is to save your model as a .h5 file.\n",
        "# It will be saved automatically in your Submission folder.\n",
        "if __name__ == '__main__':\n",
        "    # DO NOT CHANGE THIS CODE\n",
        "    model=solution_A3()\n",
        "    model.save(\"model_A3.h5\")\n"
      ]
    }
  ]
}