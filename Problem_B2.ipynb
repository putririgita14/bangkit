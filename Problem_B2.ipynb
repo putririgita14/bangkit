{
  "nbformat": 4,
  "nbformat_minor": 0,
  "metadata": {
    "colab": {
      "provenance": [],
      "gpuType": "T4",
      "authorship_tag": "ABX9TyMCcv7nnDhR35ljERC0H/PL",
      "include_colab_link": true
    },
    "kernelspec": {
      "name": "python3",
      "display_name": "Python 3"
    },
    "language_info": {
      "name": "python"
    },
    "accelerator": "GPU"
  },
  "cells": [
    {
      "cell_type": "markdown",
      "metadata": {
        "id": "view-in-github",
        "colab_type": "text"
      },
      "source": [
        "<a href=\"https://colab.research.google.com/github/putririgita14/bangkit/blob/main/Problem_B2.ipynb\" target=\"_parent\"><img src=\"https://colab.research.google.com/assets/colab-badge.svg\" alt=\"Open In Colab\"/></a>"
      ]
    },
    {
      "cell_type": "code",
      "execution_count": 1,
      "metadata": {
        "colab": {
          "base_uri": "https://localhost:8080/"
        },
        "id": "kOocpWT4Xa1k",
        "outputId": "d62c9e5e-7212-4230-ae21-3bca97a070d6"
      },
      "outputs": [
        {
          "output_type": "stream",
          "name": "stdout",
          "text": [
            "Downloading data from https://storage.googleapis.com/tensorflow/tf-keras-datasets/train-labels-idx1-ubyte.gz\n",
            "29515/29515 [==============================] - 0s 0us/step\n",
            "Downloading data from https://storage.googleapis.com/tensorflow/tf-keras-datasets/train-images-idx3-ubyte.gz\n",
            "26421880/26421880 [==============================] - 0s 0us/step\n",
            "Downloading data from https://storage.googleapis.com/tensorflow/tf-keras-datasets/t10k-labels-idx1-ubyte.gz\n",
            "5148/5148 [==============================] - 0s 0us/step\n",
            "Downloading data from https://storage.googleapis.com/tensorflow/tf-keras-datasets/t10k-images-idx3-ubyte.gz\n",
            "4422102/4422102 [==============================] - 0s 0us/step\n",
            "Epoch 1/10\n",
            "1875/1875 [==============================] - 14s 5ms/step - loss: 0.4550 - accuracy: 0.8351 - val_loss: 0.3510 - val_accuracy: 0.8740\n",
            "Epoch 2/10\n",
            "1870/1875 [============================>.] - ETA: 0s - loss: 0.3041 - accuracy: 0.8883\n",
            "Target telah dicapai, stop training!\n",
            "1875/1875 [==============================] - 7s 4ms/step - loss: 0.3042 - accuracy: 0.8882 - val_loss: 0.2980 - val_accuracy: 0.8926\n"
          ]
        },
        {
          "output_type": "stream",
          "name": "stderr",
          "text": [
            "/usr/local/lib/python3.10/dist-packages/keras/src/engine/training.py:3103: UserWarning: You are saving your model as an HDF5 file via `model.save()`. This file format is considered legacy. We recommend using instead the native Keras format, e.g. `model.save('my_model.keras')`.\n",
            "  saving_api.save_model(\n"
          ]
        }
      ],
      "source": [
        "# =============================================================================\n",
        "# PROBLEM B2\n",
        "#\n",
        "# Build a classifier for the Fashion MNIST dataset.\n",
        "# The test will expect it to classify 10 classes.\n",
        "# The input shape should be 28x28 monochrome. Do not resize the data.\n",
        "# Your input layer should accept (28, 28) as the input shape.\n",
        "#\n",
        "# Don't use lambda layers in your model.\n",
        "#\n",
        "# Desired accuracy AND validation_accuracy > 83%\n",
        "# =============================================================================\n",
        "\n",
        "import tensorflow as tf\n",
        "import urllib.request\n",
        "import numpy as np\n",
        "\n",
        "class myCallback(tf.keras.callbacks.Callback):\n",
        "    def on_epoch_end(self, epoch, logs={}):\n",
        "        if(logs.get('accuracy')>0.84 and logs.get('val_accuracy')>0.84):\n",
        "            print(\"\\nTarget telah dicapai, stop training!\")\n",
        "            self.model.stop_training = True\n",
        "\n",
        "def solution_B2():\n",
        "    fashion_mnist = tf.keras.datasets.fashion_mnist\n",
        "\n",
        "    # NORMALIZE YOUR IMAGE HERE\n",
        "    (training_images, training_labels), (test_images, test_labels) = fashion_mnist.load_data()\n",
        "    training_images=training_images.reshape(60000, 28, 28, 1)\n",
        "    training_images=training_images / 255.0\n",
        "    test_images = test_images.reshape(10000, 28, 28, 1)\n",
        "    test_images=test_images/255.0\n",
        "\n",
        "    # DEFINE YOUR MODEL HERE\n",
        "    # End with 10 Neuron Dense, activated by softmax\n",
        "    model = tf.keras.models.Sequential([\n",
        "       tf.keras.layers.Conv2D(32, (3, 3), activation='relu', input_shape=(28, 28, 1)),\n",
        "        tf.keras.layers.MaxPooling2D(2, 2),\n",
        "        tf.keras.layers.Conv2D(64, (3, 3), activation='relu'),\n",
        "        tf.keras.layers.MaxPooling2D(2, 2),\n",
        "        tf.keras.layers.Flatten(),\n",
        "        tf.keras.layers.Dense(128, activation='relu'),\n",
        "        tf.keras.layers.Dense(10, activation='softmax')\n",
        "    ])\n",
        "\n",
        "    # COMPILE MODEL HERE\n",
        "    model.compile(optimizer='adam',\n",
        "              loss='sparse_categorical_crossentropy',\n",
        "              metrics=['accuracy'])\n",
        "\n",
        "    # TRAIN YOUR MODEL HERE\n",
        "    model.fit(training_images, training_labels, validation_data=(test_images, test_labels), epochs=10, verbose=1,callbacks=[myCallback()])\n",
        "\n",
        "    return model\n",
        "\n",
        "\n",
        "# The code below is to save your model as a .h5 file.\n",
        "# It will be saved automatically in your Submission folder.\n",
        "if __name__ == '__main__':\n",
        "    # DO NOT CHANGE THIS CODE\n",
        "    model = solution_B2()\n",
        "    model.save(\"model_B2.h5\")\n"
      ]
    }
  ]
}