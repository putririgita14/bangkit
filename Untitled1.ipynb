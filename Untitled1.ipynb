{
  "nbformat": 4,
  "nbformat_minor": 0,
  "metadata": {
    "colab": {
      "provenance": [],
      "authorship_tag": "ABX9TyMjqR/DDuQKpNLtv3nUYduA",
      "include_colab_link": true
    },
    "kernelspec": {
      "name": "python3",
      "display_name": "Python 3"
    },
    "language_info": {
      "name": "python"
    }
  },
  "cells": [
    {
      "cell_type": "markdown",
      "metadata": {
        "id": "view-in-github",
        "colab_type": "text"
      },
      "source": [
        "<a href=\"https://colab.research.google.com/github/putririgita14/bangkit/blob/main/Untitled1.ipynb\" target=\"_parent\"><img src=\"https://colab.research.google.com/assets/colab-badge.svg\" alt=\"Open In Colab\"/></a>"
      ]
    },
    {
      "cell_type": "code",
      "execution_count": 2,
      "metadata": {
        "colab": {
          "base_uri": "https://localhost:8080/"
        },
        "id": "kECll0GJbtFh",
        "outputId": "6af4e50e-e6d6-4dd0-fdb9-aa6f2c854892"
      },
      "outputs": [
        {
          "output_type": "stream",
          "name": "stdout",
          "text": [
            "Epoch 1/10\n",
            "93/93 [==============================] - 7s 34ms/step - loss: 0.0701 - mae: 0.0701\n",
            "Epoch 2/10\n",
            "93/93 [==============================] - 4s 47ms/step - loss: 0.0508 - mae: 0.0508\n",
            "Epoch 3/10\n",
            "93/93 [==============================] - 3s 33ms/step - loss: 0.0474 - mae: 0.0474\n",
            "Epoch 4/10\n",
            "93/93 [==============================] - 3s 32ms/step - loss: 0.0462 - mae: 0.0462\n",
            "Epoch 5/10\n",
            "93/93 [==============================] - 4s 47ms/step - loss: 0.0450 - mae: 0.0450\n",
            "Epoch 6/10\n",
            "93/93 [==============================] - 3s 32ms/step - loss: 0.0449 - mae: 0.0449\n",
            "Epoch 7/10\n",
            "93/93 [==============================] - 3s 33ms/step - loss: 0.0447 - mae: 0.0447\n",
            "Epoch 8/10\n",
            "93/93 [==============================] - 3s 33ms/step - loss: 0.0448 - mae: 0.0448\n",
            "Epoch 9/10\n",
            "93/93 [==============================] - 3s 32ms/step - loss: 0.0451 - mae: 0.0451\n",
            "Epoch 10/10\n",
            "93/93 [==============================] - 3s 33ms/step - loss: 0.0446 - mae: 0.0446\n"
          ]
        },
        {
          "output_type": "stream",
          "name": "stderr",
          "text": [
            "/usr/local/lib/python3.10/dist-packages/keras/src/engine/training.py:3103: UserWarning: You are saving your model as an HDF5 file via `model.save()`. This file format is considered legacy. We recommend using instead the native Keras format, e.g. `model.save('my_model.keras')`.\n",
            "  saving_api.save_model(\n"
          ]
        }
      ],
      "source": [
        "# =======================================================================================\n",
        "# PROBLEM A5\n",
        "#\n",
        "# Build and train a neural network model using the Sunspots.csv dataset.\n",
        "# Use MAE as the metrics of your neural network model.\n",
        "# We provided code for normalizing the data. Please do not change the code.\n",
        "# Do not use lambda layers in your model.\n",
        "#\n",
        "# The dataset used in this problem is downloaded from kaggle.com/robervalt/sunspots\n",
        "#\n",
        "# Desired MAE < 0.15 on the normalized dataset.\n",
        "# ========================================================================================\n",
        "\n",
        "import csv\n",
        "import tensorflow as tf\n",
        "import numpy as np\n",
        "import urllib\n",
        "\n",
        "# DO NOT CHANGE THIS CODE\n",
        "def windowed_dataset(series, window_size, batch_size, shuffle_buffer):\n",
        "    series = tf.expand_dims(series, axis=-1)\n",
        "    ds = tf.data.Dataset.from_tensor_slices(series)\n",
        "    ds = ds.window(window_size + 1, shift=1, drop_remainder=True)\n",
        "    ds = ds.flat_map(lambda w: w.batch(window_size + 1))\n",
        "    ds = ds.shuffle(shuffle_buffer)\n",
        "    ds = ds.map(lambda w: (w[:-1], w[1:]))\n",
        "    return ds.batch(batch_size).prefetch(1)\n",
        "\n",
        "\n",
        "def solution_A5():\n",
        "    data_url = 'https://github.com/dicodingacademy/assets/raw/main/Simulation/machine_learning/sunspots.csv'\n",
        "    urllib.request.urlretrieve(data_url, 'sunspots.csv')\n",
        "\n",
        "    time_step = []\n",
        "    sunspots = []\n",
        "\n",
        "    with open('sunspots.csv') as csvfile:\n",
        "      reader = csv.reader(csvfile, delimiter=',')\n",
        "      next(reader)\n",
        "      for row in reader:\n",
        "        sunspots.append(float(row[2]))\n",
        "        time_step.append(int(row[0]))\n",
        "\n",
        "    series= np.array(sunspots)\n",
        "\n",
        "    # Normalization Function. DO NOT CHANGE THIS CODE\n",
        "    min=np.min(series)\n",
        "    max=np.max(series)\n",
        "    series -= min\n",
        "    series /= max\n",
        "    time=np.array(time_step)\n",
        "\n",
        "    # DO NOT CHANGE THIS CODE\n",
        "    split_time=3000\n",
        "\n",
        "\n",
        "    time_train=  time[:split_time]\n",
        "    x_train = series[:split_time]\n",
        "    time_valid = time[split_time:]\n",
        "    x_valid = series[split_time:]\n",
        "\n",
        "    # DO NOT CHANGE THIS CODE\n",
        "    window_size=30\n",
        "    batch_size=32\n",
        "    shuffle_buffer_size=1000\n",
        "\n",
        "\n",
        "    train_set=windowed_dataset(x_train, window_size=window_size,\n",
        "                               batch_size=batch_size, shuffle_buffer=shuffle_buffer_size)\n",
        "\n",
        "\n",
        "    model=tf.keras.models.Sequential([\n",
        "       tf.keras.layers.Conv1D(\n",
        "          filters=60,\n",
        "          kernel_size=5,\n",
        "          strides=1,\n",
        "          padding=\"causal\",\n",
        "          activation=\"relu\",\n",
        "          input_shape=[None, 1]),\n",
        "      tf.keras.layers.LSTM(60, return_sequences=True),\n",
        "      tf.keras.layers.LSTM(60, return_sequences=True),\n",
        "      tf.keras.layers.Dense(30, activation=\"relu\"),\n",
        "      tf.keras.layers.Dense(1)\n",
        "    ])\n",
        "\n",
        "    model.compile(loss='mae', optimizer='adam', metrics=['mae'])\n",
        "    model.fit(train_set, batch_size=256, epochs=10)\n",
        "\n",
        "    return model\n",
        "\n",
        "\n",
        "# The code below is to save your model as a .h5 file.\n",
        "# It will be saved automatically in your Submission folder.\n",
        "if __name__ == '__main__':\n",
        "    # DO NOT CHANGE THIS CODE\n",
        "    model=solution_A5()\n",
        "    model.save(\"model_A5.h5\")\n"
      ]
    }
  ]
}