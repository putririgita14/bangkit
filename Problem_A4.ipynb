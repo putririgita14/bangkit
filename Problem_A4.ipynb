{
  "nbformat": 4,
  "nbformat_minor": 0,
  "metadata": {
    "colab": {
      "provenance": [],
      "authorship_tag": "ABX9TyOp7N8YTjAgWpy1BEONJWRC",
      "include_colab_link": true
    },
    "kernelspec": {
      "name": "python3",
      "display_name": "Python 3"
    },
    "language_info": {
      "name": "python"
    }
  },
  "cells": [
    {
      "cell_type": "markdown",
      "metadata": {
        "id": "view-in-github",
        "colab_type": "text"
      },
      "source": [
        "<a href=\"https://colab.research.google.com/github/putririgita14/bangkit/blob/main/Problem_A4.ipynb\" target=\"_parent\"><img src=\"https://colab.research.google.com/assets/colab-badge.svg\" alt=\"Open In Colab\"/></a>"
      ]
    },
    {
      "cell_type": "code",
      "execution_count": 2,
      "metadata": {
        "colab": {
          "base_uri": "https://localhost:8080/"
        },
        "id": "VUgZBpPjZiB3",
        "outputId": "d51d5239-e5c1-4f63-a401-ee573de4cf8d"
      },
      "outputs": [
        {
          "output_type": "stream",
          "name": "stdout",
          "text": [
            "Epoch 1/10\n",
            "196/196 [==============================] - 3s 10ms/step - loss: 0.6303 - accuracy: 0.6431 - val_loss: 0.4245 - val_accuracy: 0.8256\n",
            "Epoch 2/10\n",
            "190/196 [============================>.] - ETA: 0s - loss: 0.3312 - accuracy: 0.8643\n",
            "Target telah dicapai, stop training!\n",
            "196/196 [==============================] - 2s 10ms/step - loss: 0.3298 - accuracy: 0.8654 - val_loss: 0.3344 - val_accuracy: 0.8540\n"
          ]
        }
      ],
      "source": [
        "# ==========================================================================================================\n",
        "# PROBLEM A4\n",
        "#\n",
        "# Build and train a binary classifier for the IMDB review dataset.\n",
        "# The classifier should have a final layer with 1 neuron activated by sigmoid.\n",
        "# Do not use lambda layers in your model.\n",
        "#\n",
        "# The dataset used in this problem is originally published in http://ai.stanford.edu/~amaas/data/sentiment/\n",
        "#\n",
        "# Desired accuracy and validation_accuracy > 83%\n",
        "# ===========================================================================================================\n",
        "\n",
        "import tensorflow as tf\n",
        "import tensorflow_datasets as tfds\n",
        "import numpy as np\n",
        "from tensorflow.keras.preprocessing.text import Tokenizer\n",
        "from tensorflow.keras.preprocessing.sequence import pad_sequences\n",
        "\n",
        "class myCallback(tf.keras.callbacks.Callback):\n",
        "    def on_epoch_end(self, epoch, logs={}):\n",
        "        if(logs.get('val_accuracy')>0.84):\n",
        "            print(\"\\nTarget telah dicapai, stop training!\")\n",
        "            self.model.stop_training = True\n",
        "\n",
        "def solution_A4():\n",
        "    imdb, info = tfds.load(\"imdb_reviews\", with_info=True, as_supervised=True)\n",
        "\n",
        "    train_data, test_data = imdb['train'], imdb['test']\n",
        "    training_sentences = []\n",
        "    training_labels = []\n",
        "\n",
        "    testing_sentences = []\n",
        "    testing_labels = []\n",
        "\n",
        "    # DO NOT CHANGE THIS CODE\n",
        "    for s, l in train_data:\n",
        "        training_sentences.append(s.numpy().decode('utf8'))\n",
        "        training_labels.append(l.numpy())\n",
        "\n",
        "    for s, l in test_data:\n",
        "        testing_sentences.append(s.numpy().decode('utf8'))\n",
        "        testing_labels.append(l.numpy())\n",
        "\n",
        "    training_labels_final = np.array(training_labels)\n",
        "    testing_labels_final = np.array(testing_labels)\n",
        "\n",
        "    # DO NOT CHANGE THIS CODE\n",
        "    # Make sure you used all of these parameters or test may fail\n",
        "    vocab_size = 10000\n",
        "    embedding_dim = 16\n",
        "    max_length = 120\n",
        "    trunc_type = 'post'\n",
        "    oov_tok = \"<OOV>\"\n",
        "\n",
        "    # Fit your tokenizer with training data\n",
        "    tokenizer =  Tokenizer(num_words = vocab_size, oov_token=oov_tok)\n",
        "    tokenizer.fit_on_texts(training_sentences)\n",
        "    word_index = tokenizer.word_index\n",
        "\n",
        "    sequences = tokenizer.texts_to_sequences(training_sentences)\n",
        "    testing_sequences = tokenizer.texts_to_sequences(testing_sentences)\n",
        "\n",
        "    padded = pad_sequences(sequences,maxlen=max_length, truncating=trunc_type)\n",
        "    testing_padded = pad_sequences(testing_sequences,maxlen=max_length)\n",
        "\n",
        "    reverse_word_index = dict([(value, key) for (key, value) in word_index.items()])\n",
        "\n",
        "    def decode_review(text):\n",
        "        return ' '.join([reverse_word_index.get(i, '?') for i in text])\n",
        "\n",
        "    model = tf.keras.Sequential([\n",
        "        tf.keras.layers.Embedding(vocab_size, embedding_dim, input_length=max_length),\n",
        "        tf.keras.layers.Flatten(),\n",
        "        tf.keras.layers.Dense(6, activation='relu'),\n",
        "        tf.keras.layers.Dense(1, activation='sigmoid')\n",
        "    ])\n",
        "\n",
        "    callback = myCallback()\n",
        "    model.compile(\n",
        "        loss='binary_crossentropy',\n",
        "        optimizer='adam',\n",
        "        metrics=['accuracy'])\n",
        "\n",
        "    model.fit(\n",
        "        padded,\n",
        "        training_labels_final,\n",
        "        batch_size=128,\n",
        "        epochs=10,\n",
        "        validation_data=(\n",
        "            testing_padded,\n",
        "            testing_labels_final),\n",
        "        callbacks=callback\n",
        "        )\n",
        "\n",
        "    return model\n",
        "\n",
        "\n",
        "# The code below is to save your model as a .h5 file.\n",
        "# It will be saved automatically in your Submission folder.\n",
        "if __name__ == '__main__':\n",
        "    # DO NOT CHANGE THIS CODE\n",
        "    model = solution_A4()\n",
        "    model.save(\"model_A4.h5\")\n"
      ]
    }
  ]
}