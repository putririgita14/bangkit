{
  "nbformat": 4,
  "nbformat_minor": 0,
  "metadata": {
    "colab": {
      "provenance": [],
      "gpuType": "T4",
      "authorship_tag": "ABX9TyNuId/8xcjOxSSu5RQOEC4T",
      "include_colab_link": true
    },
    "kernelspec": {
      "name": "python3",
      "display_name": "Python 3"
    },
    "language_info": {
      "name": "python"
    },
    "accelerator": "GPU"
  },
  "cells": [
    {
      "cell_type": "markdown",
      "metadata": {
        "id": "view-in-github",
        "colab_type": "text"
      },
      "source": [
        "<a href=\"https://colab.research.google.com/github/putririgita14/bangkit/blob/main/Problem_B2.ipynb\" target=\"_parent\"><img src=\"https://colab.research.google.com/assets/colab-badge.svg\" alt=\"Open In Colab\"/></a>"
      ]
    },
    {
      "cell_type": "code",
      "execution_count": 2,
      "metadata": {
        "colab": {
          "base_uri": "https://localhost:8080/"
        },
        "id": "kOocpWT4Xa1k",
        "outputId": "6792cf8d-7525-40f9-bb14-7fde91ccf90f"
      },
      "outputs": [
        {
          "output_type": "stream",
          "name": "stdout",
          "text": [
            "Epoch 1/100\n",
            "   1/1875 [..............................] - ETA: 42:59 - loss: 12.6715 - accuracy: 0.0625"
          ]
        },
        {
          "output_type": "stream",
          "name": "stderr",
          "text": [
            "WARNING:tensorflow:Callback method `on_train_batch_end` is slow compared to the batch time (batch time: 0.0035s vs `on_train_batch_end` time: 0.0035s). Check your callbacks.\n"
          ]
        },
        {
          "output_type": "stream",
          "name": "stdout",
          "text": [
            "1873/1875 [============================>.] - ETA: 0s - loss: 0.5196 - accuracy: 0.8464\n",
            "Target telah dicapai, stop training!\n",
            "1875/1875 [==============================] - 14s 7ms/step - loss: 0.5196 - accuracy: 0.8464 - val_loss: 0.3469 - val_accuracy: 0.8718\n"
          ]
        }
      ],
      "source": [
        "# =============================================================================\n",
        "# PROBLEM B2\n",
        "#\n",
        "# Build a classifier for the Fashion MNIST dataset.\n",
        "# The test will expect it to classify 10 classes.\n",
        "# The input shape should be 28x28 monochrome. Do not resize the data.\n",
        "# Your input layer should accept (28, 28) as the input shape.\n",
        "#\n",
        "# Don't use lambda layers in your model.\n",
        "#\n",
        "# Desired accuracy AND validation_accuracy > 83%\n",
        "# =============================================================================\n",
        "\n",
        "import tensorflow as tf\n",
        "import numpy as np\n",
        "\n",
        "class myCallback(tf.keras.callbacks.Callback):\n",
        "    def on_epoch_end(self, epoch, logs={}):\n",
        "        if(logs.get('accuracy')>0.84 and logs.get('val_accuracy')>0.84):\n",
        "            print(\"\\nTarget telah dicapai, stop training!\")\n",
        "            self.model.stop_training = True\n",
        "\n",
        "def solution_B2():\n",
        "    fashion_mnist = tf.keras.datasets.fashion_mnist\n",
        "\n",
        "    # NORMALIZE YOUR IMAGE HERE\n",
        "    (x_train, y_train), (x_test, y_test) = fashion_mnist.load_data()\n",
        "    xtrain = np.expand_dims(x_train, -1)\n",
        "    xtest = np.expand_dims(x_test, -1)\n",
        "    ytrain = tf.keras.utils.to_categorical(y_train)\n",
        "    ytest = tf.keras.utils.to_categorical(y_test)\n",
        "    num_label = len(np.unique(y_train))\n",
        "\n",
        "    # DEFINE YOUR MODEL HERE\n",
        "    # End with 10 Neuron Dense, activated by softmax\n",
        "    model = tf.keras.models.Sequential([\n",
        "        tf.keras.layers.Conv2D(32, (3,3), activation='relu', input_shape=(28,28,1)),\n",
        "        tf.keras.layers.Conv2D(64, (3,3), activation='relu'),\n",
        "        tf.keras.layers.Conv2D(128, (3,3), activation='relu'),\n",
        "        tf.keras.layers.MaxPooling2D(2,2),\n",
        "        tf.keras.layers.Dropout(0.25),\n",
        "        tf.keras.layers.Flatten(),\n",
        "        tf.keras.layers.Dense(128, activation='relu'),\n",
        "        tf.keras.layers.Dense(10, activation='softmax')\n",
        "    ])\n",
        "\n",
        "    callback = myCallback()\n",
        "\n",
        "    # COMPILE MODEL HERE\n",
        "    model.compile(optimizer='adam', loss='categorical_crossentropy', metrics=['accuracy'])\n",
        "\n",
        "    # TRAIN YOUR MODEL HERE\n",
        "    model.fit(xtrain, ytrain, validation_data=(xtest, ytest), epochs=100, verbose=1, callbacks=callback)\n",
        "\n",
        "    return model\n",
        "\n",
        "\n",
        "# The code below is to save your model as a .h5 file.\n",
        "# It will be saved automatically in your Submission folder.\n",
        "if __name__ == '__main__':\n",
        "    # DO NOT CHANGE THIS CODE\n",
        "    model = solution_B2()\n",
        "    model.save(\"model_B2.h5\")\n"
      ]
    }
  ]
}