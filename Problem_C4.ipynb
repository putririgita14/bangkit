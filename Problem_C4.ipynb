{
  "nbformat": 4,
  "nbformat_minor": 0,
  "metadata": {
    "colab": {
      "provenance": [],
      "authorship_tag": "ABX9TyM9Mi7Gu9WBgkxTRdxMmGvn",
      "include_colab_link": true
    },
    "kernelspec": {
      "name": "python3",
      "display_name": "Python 3"
    },
    "language_info": {
      "name": "python"
    }
  },
  "cells": [
    {
      "cell_type": "markdown",
      "metadata": {
        "id": "view-in-github",
        "colab_type": "text"
      },
      "source": [
        "<a href=\"https://colab.research.google.com/github/putririgita14/bangkit/blob/main/Problem_C4.ipynb\" target=\"_parent\"><img src=\"https://colab.research.google.com/assets/colab-badge.svg\" alt=\"Open In Colab\"/></a>"
      ]
    },
    {
      "cell_type": "code",
      "execution_count": 2,
      "metadata": {
        "colab": {
          "base_uri": "https://localhost:8080/"
        },
        "id": "VKb-9EbLSQ9T",
        "outputId": "3b477dd2-0011-4e67-ff77-2cd6f62e3f8a"
      },
      "outputs": [
        {
          "output_type": "stream",
          "name": "stdout",
          "text": [
            "Epoch 1/20\n",
            "625/625 [==============================] - 4s 4ms/step - loss: 0.6851 - accuracy: 0.5600 - val_loss: 0.6822 - val_accuracy: 0.5633\n",
            "Epoch 2/20\n",
            "625/625 [==============================] - 3s 5ms/step - loss: 0.6780 - accuracy: 0.5603 - val_loss: 0.6676 - val_accuracy: 0.5637\n",
            "Epoch 3/20\n",
            "625/625 [==============================] - 3s 5ms/step - loss: 0.6448 - accuracy: 0.6072 - val_loss: 0.6125 - val_accuracy: 0.6749\n",
            "Epoch 4/20\n",
            "625/625 [==============================] - 2s 3ms/step - loss: 0.5677 - accuracy: 0.7111 - val_loss: 0.5297 - val_accuracy: 0.7353\n",
            "Epoch 5/20\n",
            "625/625 [==============================] - 3s 5ms/step - loss: 0.4967 - accuracy: 0.7666 - val_loss: 0.4900 - val_accuracy: 0.7554\n",
            "Epoch 6/20\n",
            "621/625 [============================>.] - ETA: 0s - loss: 0.4568 - accuracy: 0.7880\n",
            "Target telah tercapai, stop training!\n",
            "625/625 [==============================] - 2s 3ms/step - loss: 0.4567 - accuracy: 0.7879 - val_loss: 0.4528 - val_accuracy: 0.7934\n"
          ]
        }
      ],
      "source": [
        "# =====================================================================================================\n",
        "# PROBLEM C4\n",
        "#\n",
        "# Build and train a classifier for the sarcasm dataset.\n",
        "# The classifier should have a final layer with 1 neuron activated by sigmoid.\n",
        "#\n",
        "# Do not use lambda layers in your model.\n",
        "#\n",
        "# Dataset used in this problem is built by Rishabh Misra (https://rishabhmisra.github.io/publications).\n",
        "#\n",
        "# Desired accuracy and validation_accuracy > 75%\n",
        "# =======================================================================================================\n",
        "\n",
        "import json\n",
        "import tensorflow as tf\n",
        "import numpy as np\n",
        "import urllib\n",
        "from tensorflow.keras.preprocessing.text import Tokenizer\n",
        "from tensorflow.keras.preprocessing.sequence import pad_sequences\n",
        "\n",
        "class myCallback(tf.keras.callbacks.Callback):\n",
        "    def on_epoch_end(self, epoch, logs={}):\n",
        "        if(logs.get('accuracy')>0.76 and logs.get('val_accuracy')>0.76):\n",
        "            print(\"\\nTarget telah tercapai, stop training!\")\n",
        "            self.model.stop_training = True\n",
        "\n",
        "def solution_C4():\n",
        "    data_url = 'https://github.com/dicodingacademy/assets/raw/main/Simulation/machine_learning/sarcasm.json'\n",
        "    urllib.request.urlretrieve(data_url, 'sarcasm.json')\n",
        "\n",
        "    # DO NOT CHANGE THIS CODE\n",
        "    # Make sure you used all of these parameters or test may fail\n",
        "    vocab_size = 1000\n",
        "    embedding_dim = 16\n",
        "    max_length = 120\n",
        "    trunc_type = 'post'\n",
        "    padding_type = 'post'\n",
        "    oov_tok = \"<OOV>\"\n",
        "    training_size = 20000\n",
        "\n",
        "    sentences = []\n",
        "    labels = []\n",
        "\n",
        "    with open('sarcasm.json', 'r') as json_read:\n",
        "        getdata = json.load(json_read)\n",
        "\n",
        "    for i in getdata:\n",
        "        sentences.append(i['headline'])\n",
        "        labels.append(i['is_sarcastic'])\n",
        "\n",
        "    train_sentences = sentences[:training_size]\n",
        "    train_labels = np.array(labels[:training_size])\n",
        "    test_sentences = sentences[training_size:]\n",
        "    test_labels = np.array(labels[training_size:])\n",
        "\n",
        "    # Fit your tokenizer with training data\n",
        "    tokenizer = Tokenizer(num_words=vocab_size,\n",
        "                           oov_token=oov_tok)\n",
        "    tokenizer.fit_on_texts(train_sentences) # YOUR CODE HERE\n",
        "\n",
        "    training_seq = tokenizer.texts_to_sequences(train_sentences)\n",
        "    train_sentences_pad = pad_sequences(training_seq,\n",
        "                                        maxlen=max_length,\n",
        "                                        truncating=trunc_type,\n",
        "                                        padding=padding_type)\n",
        "\n",
        "    testing_seq = tokenizer.texts_to_sequences(test_sentences)\n",
        "    test_sentences_pad = pad_sequences(testing_seq,\n",
        "                                       maxlen=max_length,\n",
        "                                       truncating=trunc_type,\n",
        "                                       padding=padding_type)\n",
        "\n",
        "    model = tf.keras.Sequential([\n",
        "        tf.keras.layers.Embedding(vocab_size, embedding_dim, input_length=max_length),\n",
        "        tf.keras.layers.GlobalAveragePooling1D(),\n",
        "        tf.keras.layers.Dense(16, activation='relu'),\n",
        "        tf.keras.layers.Dense(1, activation='sigmoid')\n",
        "    ])\n",
        "\n",
        "    model.compile(optimizer='rmsprop',\n",
        "                  loss='binary_crossentropy',\n",
        "                  metrics=['accuracy'])\n",
        "\n",
        "    model.fit(train_sentences_pad,\n",
        "              train_labels,\n",
        "              epochs=20,\n",
        "              validation_data=(test_sentences_pad, test_labels),\n",
        "              callbacks=[myCallback()])\n",
        "\n",
        "    return model\n",
        "\n",
        "\n",
        "# The code below is to save your model as a .h5 file.\n",
        "# It will be saved automatically in your Submission folder.\n",
        "if __name__ == '__main__':\n",
        "    # DO NOT CHANGE THIS CODE\n",
        "    model = solution_C4()\n",
        "    model.save(\"model_C4.h5\")\n"
      ]
    }
  ]
}